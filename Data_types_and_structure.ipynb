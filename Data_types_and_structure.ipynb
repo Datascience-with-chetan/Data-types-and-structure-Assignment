{
  "nbformat": 4,
  "nbformat_minor": 0,
  "metadata": {
    "colab": {
      "provenance": []
    },
    "kernelspec": {
      "name": "python3",
      "display_name": "Python 3"
    },
    "language_info": {
      "name": "python"
    }
  },
  "cells": [
    {
      "cell_type": "markdown",
      "source": [
        "# Theoretical Questions"
      ],
      "metadata": {
        "id": "HZsOQiIzpgHP"
      }
    },
    {
      "cell_type": "markdown",
      "source": [
        "1.what are data structure, and why are they important?\n",
        "- A data structure is a specialized way of organizing, storing, and managing data in a computer so that it can be accessed and manipulated efficiently\n",
        "- They are important because of there.\n",
        " - Efficincy\n",
        " - Organization\n",
        " = Scalability\n",
        " - Problem Solving\n",
        " - Code readability and maintainability\n",
        "\n",
        "\n"
      ],
      "metadata": {
        "id": "aLUY9-dgpuA7"
      }
    },
    {
      "cell_type": "markdown",
      "source": [
        "2. Explain the difference between mutable and immutable data types with example.\n",
        " - Mutable data type:\n",
        "    - Mutable data types are those whose values can be changed or modified after they are created. example are Lists, dictionaries, and sets in Python are mutable. You can add, remove, or change elements within these structures.\n",
        " - Imutable data type:\n",
        "    -  Immutable data types are those whose values cannot be changed after they are created.\n",
        "\n",
        "\n"
      ],
      "metadata": {
        "id": "o9eLULEkrwtt"
      }
    },
    {
      "cell_type": "code",
      "execution_count": null,
      "metadata": {
        "id": "q0eEtKYhpWz-",
        "colab": {
          "base_uri": "https://localhost:8080/"
        },
        "outputId": "24c31e6b-065d-4e87-835f-1363c3210ffa"
      },
      "outputs": [
        {
          "output_type": "execute_result",
          "data": {
            "text/plain": [
              "[1, 15, 3, 4]"
            ]
          },
          "metadata": {},
          "execution_count": 2
        }
      ],
      "source": [
        "# mutable data type\n",
        "my_num = [1,2,3,4]\n",
        "my_num[1] = 15\n",
        "my_num"
      ]
    },
    {
      "cell_type": "code",
      "source": [
        "# immutable data type\n",
        "my_num = (1,2,3,4)\n",
        "my_num[1] = 15\n",
        "my_num"
      ],
      "metadata": {
        "colab": {
          "base_uri": "https://localhost:8080/",
          "height": 193
        },
        "id": "NZFwuOxIt35o",
        "outputId": "14b56536-5b9f-4918-d849-d96e35b4cd3a"
      },
      "execution_count": null,
      "outputs": [
        {
          "output_type": "error",
          "ename": "TypeError",
          "evalue": "'tuple' object does not support item assignment",
          "traceback": [
            "\u001b[0;31m---------------------------------------------------------------------------\u001b[0m",
            "\u001b[0;31mTypeError\u001b[0m                                 Traceback (most recent call last)",
            "\u001b[0;32m<ipython-input-3-7ae449f12908>\u001b[0m in \u001b[0;36m<cell line: 0>\u001b[0;34m()\u001b[0m\n\u001b[1;32m      1\u001b[0m \u001b[0;31m# immutable data type\u001b[0m\u001b[0;34m\u001b[0m\u001b[0;34m\u001b[0m\u001b[0m\n\u001b[1;32m      2\u001b[0m \u001b[0mmy_num\u001b[0m \u001b[0;34m=\u001b[0m \u001b[0;34m(\u001b[0m\u001b[0;36m1\u001b[0m\u001b[0;34m,\u001b[0m\u001b[0;36m2\u001b[0m\u001b[0;34m,\u001b[0m\u001b[0;36m3\u001b[0m\u001b[0;34m,\u001b[0m\u001b[0;36m4\u001b[0m\u001b[0;34m)\u001b[0m\u001b[0;34m\u001b[0m\u001b[0;34m\u001b[0m\u001b[0m\n\u001b[0;32m----> 3\u001b[0;31m \u001b[0mmy_num\u001b[0m\u001b[0;34m[\u001b[0m\u001b[0;36m1\u001b[0m\u001b[0;34m]\u001b[0m \u001b[0;34m=\u001b[0m \u001b[0;36m15\u001b[0m\u001b[0;34m\u001b[0m\u001b[0;34m\u001b[0m\u001b[0m\n\u001b[0m\u001b[1;32m      4\u001b[0m \u001b[0mmy_num\u001b[0m\u001b[0;34m\u001b[0m\u001b[0;34m\u001b[0m\u001b[0m\n",
            "\u001b[0;31mTypeError\u001b[0m: 'tuple' object does not support item assignment"
          ]
        }
      ]
    },
    {
      "cell_type": "markdown",
      "source": [
        "3.What are the main difference between list and tuples in Python?\n",
        " - Mutability: Lists can be modified-elements can be added, removed, or changed. Tuples, once created, cannot be altered in any way. Any attempt to change a tuple results in a TypeError\n",
        " - Syntax: Lists use square brackets, e.g., my_list = [1][2][3]. Tuples use parentheses, e.g., my_tuple = (1, 2, 3)\n",
        " - Use Cases: Use lists when you need a dynamic, changeable collection (e.g., a shopping cart). Use tuples when you want to ensure the data remains constant"
      ],
      "metadata": {
        "id": "jUepGHKjuJCT"
      }
    },
    {
      "cell_type": "markdown",
      "source": [
        "4.Describe how dictionaries store data.\n",
        " - Python dictionaries store data as collections of key-value pairs, where each key is unique and maps directly to a value\n",
        " - Data is stored as key-value pairs in a hash table.\n",
        " - Keys are hashed to determine their storage location.\n",
        " - Collisions are handled with open addressing and quadratic probing.\n",
        " - Dictionaries are mutable and dynamically resized for efficiency"
      ],
      "metadata": {
        "id": "7FwR0rsBvg53"
      }
    },
    {
      "cell_type": "markdown",
      "source": [
        "5. why might you use a set instead of a list in python?\n",
        "- Use a set instead of a list in Python when you need uniqueness, efficient membership testing, or to perform mathematical set operations. Lists are better when you need to maintain order, allow duplicates, or require indexing\n",
        "- When you need to store only unique items.\n",
        "- When you need fast membership checks.\n",
        "- When you need to perform set operations (union, intersection, difference).\n",
        "- When the order of elements is not important.\n",
        "\n"
      ],
      "metadata": {
        "id": "IGdyZ1J8weUm"
      }
    },
    {
      "cell_type": "markdown",
      "source": [
        "6. what is string in Python and how is it different form a list?\n",
        "- A string in Python is a sequence of characters enclosed within single quotes ('...'), double quotes (\"...\"), or triple quotes ('''...''' or \"\"\"...\"\"\"). Strings are used to represent textual data, such as words, sentences, or any combination of characters\n",
        "   - how string is it different form a list?\n",
        "-Strings are immutable sequences of characters, ideal for representing and manipulating text.\n",
        "- Lists are mutable sequences that can hold elements of any type, making them more flexible for storing collections of data."
      ],
      "metadata": {
        "id": "YuY6mPCKxQB9"
      }
    },
    {
      "cell_type": "markdown",
      "source": [
        "7. how do tuples ensure data integrity in Python?\n",
        "- Tuples ensure data integrity in Python primarily through their immutability-once a tuple is created, its contents cannot be changed, added to, or removed\n",
        "  - No modification\n",
        "  - No addition or removal\n",
        "  - Consistency\n",
        "  - Safe for critical data"
      ],
      "metadata": {
        "id": "sydtSTO_x8sy"
      }
    },
    {
      "cell_type": "markdown",
      "source": [
        "8.what is hash table and how does it relate to dictionaries in Python?\n",
        "- A hash table is a data structure that stores key-value pairs and allows for fast retrieval, insertion, and deletion of values based on their keys. It works by applying a hash function to each key, converting it into a hash value, which is then used to determine where to store or find the corresponding value in an internal array, often called \"buckets\"\n",
        "- A hash table is the core data structure behind Python's dictionaries. In a hash table, each key is processed by a hash function, which converts the key into a numerical hash value. This hash value determines the index in an internal array (called buckets) where the corresponding value is stored. When you look up, insert, or delete a key-value pair in a dictionary, Python uses the hash of the key to quickly find the right spot in the hash table, making these operations very fast-typically constant time"
      ],
      "metadata": {
        "id": "f03cDOpByxOY"
      }
    },
    {
      "cell_type": "markdown",
      "source": [
        "9.Can lists contain different data types in Python\n",
        "- Yes, lists in Python can contain different data types. Python lists are heterogeneous, meaning they allow you to store elements of various types-such as integers, strings, floats, booleans, dictionaries, tuples, and even other lists-within the same list"
      ],
      "metadata": {
        "id": "GlobSvq1z82A"
      }
    },
    {
      "cell_type": "markdown",
      "source": [
        "10.Why strings are immutable in python?\n",
        "- Strings are immutable in Python, which means you can’t change them after you create them.\n",
        "- It keeps your data safe-no one can accidentally change your text.\n",
        "- It lets you use strings as keys in dictionaries.\n",
        "- It makes your programs faster and uses memory better.\n",
        "- It avoids problems if your program is running in different places at the same time.\n",
        "- Python makes strings unchangeable so your programs are safer, faster, and more reliable"
      ],
      "metadata": {
        "id": "HaPS9Hbw0cSJ"
      }
    },
    {
      "cell_type": "markdown",
      "source": [
        "11.what is advantages do dictionaries offer over lists for certain tasks?\n",
        "- Dictionaries are better than lists for some tasks because:\n",
        "  - You can find things faster With a dictionary, you can look up a value by its name (the key) instantly, instead of searching through the whole list.\n",
        "  - You can use names instead of numbers.In a list, you find items by their position (like the 3rd item). In a dictionary, you use a label or name (like \"age\" or \"color\"), which is easier to understand.\n",
        "  - Each key is unique.Dictionaries don’t let you have two items with the same key, so your data stays organized.\n",
        "  - It’s easier to update or change things.You can quickly change a value in a dictionary if you know the key, without searching for it."
      ],
      "metadata": {
        "id": "fvXr4aBR2rhr"
      }
    },
    {
      "cell_type": "markdown",
      "source": [
        "12.Describe a scenario where using a tuple would be preferable over a list?\n",
        "- A scenario where using a tuple would be preferable over a list is when you need to store a collection of items that should not change throughout the program. For example, if you are storing the coordinates of a point on a graph (like (x, y)), or the days of the week, using a tuple ensures that this data remains constant and cannot be accidentally modified.\n",
        "- Key reasons for preferring a tuple in such cases:\n",
        "\n",
        "  - Immutability: Tuples cannot be changed after creation, which protects your data from accidental modification and helps ensure data integrity.\n",
        "  - Memory and Speed: Tuples use less memory and are slightly faster to access than lists, making them more efficient for fixed collections.\n",
        "  - Hashability: Tuples can be used as keys in dictionaries or elements in sets, while lists cannot, due to their immutability.\n",
        "  - Semantic Meaning: Tuples are often used to represent a fixed collection of different types of related data, such as a database record or RGB color (255, 255, 0).\n",
        "- Example scenario:\n",
        "Storing a person's birth date as a tuple (year, month, day) is preferable because a birth date should never change, and using a tuple prevents accidental updates to this data"
      ],
      "metadata": {
        "id": "cHIvShS37xCn"
      }
    },
    {
      "cell_type": "markdown",
      "source": [
        "13.How do sets handle duplicate values in Python?\n",
        "- In Python, sets automatically handle duplicate values by only storing unique elements. If you try to add duplicate items to a set, the duplicates are ignored and only one instance of each unique value is kept. For example, if you create a set like {\"apple\", \"banana\", \"apple\"}, the resulting set will be {\"apple\", \"banana\"}-the second \"apple\" is not stored.\n",
        "- This behavior makes sets useful for tasks where you need to ensure all items are unique or want to remove duplicates from other data structures like lists"
      ],
      "metadata": {
        "id": "7-ecEujw8bb6"
      }
    },
    {
      "cell_type": "markdown",
      "source": [
        "14.how does the \"in\" keyword work differently for lists and dictionaries?\n",
        "- he \"in\" keyword works differently for lists and dictionaries in Python:\n",
        "\n",
        "  - For lists:\n",
        "The in keyword checks if a value exists anywhere in the list by searching through each element one by one. This means it looks for the presence of a specific item (like a number or string) among the list's values. For example, 3 in [1][2][3][4] returns True because 3 is an element in the list. This search is done sequentially and can be slower for large lists.\n",
        "\n",
        "  - For dictionaries:\n",
        "The in keyword checks if a value exists as a key in the dictionary, not as a value. For example, in {\"a\": 1, \"b\": 2}, the expression 'a' in my_dict returns True, but 1 in my_dict returns False because 1 is a value, not a key. This key lookup is very fast because dictionaries use a hash table internally"
      ],
      "metadata": {
        "id": "gnSKMfTK9Gg_"
      }
    },
    {
      "cell_type": "markdown",
      "source": [
        "15.Can you modify the elements of a tuples? explain why or why not.\n",
        "- No, you cannot modify the elements of a tuple in Python. Tuples are immutable, which means that once a tuple is created, its values cannot be changed, added to, or removed. If you try to assign a new value to an element of a tuple, Python will raise a TypeError. This immutability is by design and helps ensure data integrity, making tuples useful for storing fixed collections of data that should not be altered.\n",
        "- If you need to change the contents of a tuple, you must first convert it to a list, make your changes, and then convert it back to a tuple. However, this process creates a new tuple and does not modify the original one."
      ],
      "metadata": {
        "id": "3gX5kMp993qZ"
      }
    },
    {
      "cell_type": "markdown",
      "source": [
        "16.what is a nested dictionary and give an example of its use case?\n",
        "- A nested dictionary in Python is a dictionary where the values themselves are dictionaries, creating a structure with multiple levels or layers of key-value pairs. This allows you to organize complex, hierarchical data in a clear and accessible way."
      ],
      "metadata": {
        "id": "eMjSEyZS-kbo"
      }
    },
    {
      "cell_type": "code",
      "source": [
        "myfamily = {\n",
        "  \"child1\" : {\n",
        "    \"name\" : \"Emil\",\n",
        "    \"year\" : 2004\n",
        "  },\n",
        "  \"child2\" : {\n",
        "    \"name\" : \"Tobias\",\n",
        "    \"year\" : 2003\n",
        "  }\n",
        "}\n",
        "myfamily"
      ],
      "metadata": {
        "colab": {
          "base_uri": "https://localhost:8080/"
        },
        "id": "AVy-2OWRuGTR",
        "outputId": "4868b267-f1df-436c-c0be-3df56a767d63"
      },
      "execution_count": null,
      "outputs": [
        {
          "output_type": "execute_result",
          "data": {
            "text/plain": [
              "{'child1': {'name': 'Emil', 'year': 2004},\n",
              " 'child2': {'name': 'Tobias', 'year': 2003}}"
            ]
          },
          "metadata": {},
          "execution_count": 6
        }
      ]
    },
    {
      "cell_type": "markdown",
      "source": [
        "17.Describe the time complexity of accessing elements in a dictionary.\n",
        "- Accessing elements in a Python dictionary has an average time complexity of O(1), meaning it takes constant time regardless of the dictionary's size. This efficiency is due to the underlying hash table implementation, which allows Python to directly compute the location of a value using the hash of its key\n",
        "- No matter how big the dictionary is, finding a value by its key usually takes the same short amount of time. This is because Python uses a special system (called a hash table) to jump straight to the value you want."
      ],
      "metadata": {
        "id": "-Pt_bTtI_h3w"
      }
    },
    {
      "cell_type": "markdown",
      "source": [
        "18.In What situations are lists preferred over dictionaries?\n",
        "- Lists are preferred over dictionaries in the following situations:\n",
        "\n",
        "  - When order matters:\n",
        "Lists keep items in the order you add them, so they’re great when you need to preserve the sequence or access items by their position (index).\n",
        "\n",
        "  - When duplicate values are needed:\n",
        "Lists allow repeated items, which is useful if your data can have the same value more than once.\n",
        "\n",
        "  - When you need to access items by position:\n",
        "If you want to get, insert, or change elements using their numeric index, lists are the better choice.\n",
        "\n",
        "  - For simple collections:\n",
        "Lists work well for storing simple, sequential collections of data such as numbers, names, or objects, especially when you don’t need to label items with unique keys.\n",
        "\n",
        "  - For sorting and slicing:\n",
        "Lists support sorting, slicing, and other operations that depend on the order of elements.\n",
        "\n"
      ],
      "metadata": {
        "id": "HxFqW-4aA2WH"
      }
    },
    {
      "cell_type": "markdown",
      "source": [
        "19.Why are dictionaries considered unordered and how does that affects data retrieval?\n",
        "- Dictionaries in Python were originally considered unordered because their underlying data structure-a hash table-does not store items in any particular sequence. This means that, in versions before Python 3.7, the order in which you added items to a dictionary was not preserved, and you could not access items by their position or index. Instead, you always retrieve values by their unique keys, not by order or position\n",
        "- How does this affect data retrieval?\n",
        "\n",
        "  - You cannot access dictionary items by index, only by key.\n",
        "  - The order of items was unpredictable in older Python versions, so iterating over a dictionary could return items in any order.\n",
        "  - Data retrieval is always done by key, which is very fast and efficient, but you cannot rely on the order in which items are stored or returned."
      ],
      "metadata": {
        "id": "D9Mix6KIBiPy"
      }
    },
    {
      "cell_type": "markdown",
      "source": [
        "20.Explain the difference between a list and a dictionary in terms of data retrieval?\n",
        "- The main difference between a list and a dictionary in terms of data retrieval is how you access their elements and the speed of that access:\n",
        "\n",
        "  - Lists:\n",
        "You retrieve data from a list using a numeric index, which represents the position of the item in the sequence (e.g., my_list[2]). Searching for a specific value in a list requires checking each element one by one, which takes longer as the list grows-this is called linear time complexity, or O(n).\n",
        "\n",
        "  - Dictionaries:\n",
        "You retrieve data from a dictionary using a unique key (e.g., my_dict[\"name\"]). Dictionaries use a hash table under the hood, so looking up a value by its key is extremely fast, typically constant time, or O(1), regardless of the dictionary's size. You cannot access dictionary values by position; you must know the key.\n",
        "- Use a list when you need to access items by their position. Use a dictionary when you need to quickly retrieve data using a unique identifier or key"
      ],
      "metadata": {
        "id": "TmjLQtpSDKsd"
      }
    },
    {
      "cell_type": "markdown",
      "source": [
        "# Practical Question\n"
      ],
      "metadata": {
        "id": "fqcQkBlWd_y-"
      }
    },
    {
      "cell_type": "code",
      "source": [
        "# 1. write a code to create a string with your name and print it.\n",
        "my_name = \"Chetan\"\n",
        "print(my_name)"
      ],
      "metadata": {
        "colab": {
          "base_uri": "https://localhost:8080/"
        },
        "id": "LjBwDqnHeQyg",
        "outputId": "efc98ec2-6e27-4232-a8c0-5bbe50a394a5"
      },
      "execution_count": 1,
      "outputs": [
        {
          "output_type": "stream",
          "name": "stdout",
          "text": [
            "Chetan\n"
          ]
        }
      ]
    },
    {
      "cell_type": "code",
      "source": [
        "# 2. Write a code to find the length of the string \"Hello World\"\n",
        "my_str = \"Hello World\"\n",
        "len(my_str)"
      ],
      "metadata": {
        "colab": {
          "base_uri": "https://localhost:8080/"
        },
        "id": "tZpQ_8sBex1r",
        "outputId": "7e22984b-52a6-4bc4-d6dc-3217eddd1f28"
      },
      "execution_count": 2,
      "outputs": [
        {
          "output_type": "execute_result",
          "data": {
            "text/plain": [
              "11"
            ]
          },
          "metadata": {},
          "execution_count": 2
        }
      ]
    },
    {
      "cell_type": "code",
      "source": [
        "# 3. Write a code to slice the first 3 characters from the string \"Python Programming\"\n",
        "my_str = \"Python Programming\"\n",
        "my_str[0:3]"
      ],
      "metadata": {
        "colab": {
          "base_uri": "https://localhost:8080/",
          "height": 36
        },
        "id": "BTKyw0-jfBma",
        "outputId": "8881737a-d0a6-4046-fb6f-2e05f0af9437"
      },
      "execution_count": 4,
      "outputs": [
        {
          "output_type": "execute_result",
          "data": {
            "text/plain": [
              "'Pyt'"
            ],
            "application/vnd.google.colaboratory.intrinsic+json": {
              "type": "string"
            }
          },
          "metadata": {},
          "execution_count": 4
        }
      ]
    },
    {
      "cell_type": "code",
      "source": [
        "# 4. Write a code to convert the string \"hello\" to uppercase\n",
        "my_str = \"hello\"\n",
        "my_str.upper()"
      ],
      "metadata": {
        "colab": {
          "base_uri": "https://localhost:8080/",
          "height": 36
        },
        "id": "ZkOJaUDUfjV9",
        "outputId": "5cf617cc-f82e-4b3c-e4a7-af1983ad9243"
      },
      "execution_count": 6,
      "outputs": [
        {
          "output_type": "execute_result",
          "data": {
            "text/plain": [
              "'HELLO'"
            ],
            "application/vnd.google.colaboratory.intrinsic+json": {
              "type": "string"
            }
          },
          "metadata": {},
          "execution_count": 6
        }
      ]
    },
    {
      "cell_type": "code",
      "source": [
        "# 5. Write a code to replace the word \"apple\" with \"orange\" in the string \"i like apple\"\n",
        "my_str = \"i like apple\"\n",
        "my_str.replace(\"apple\",\"orange\")"
      ],
      "metadata": {
        "colab": {
          "base_uri": "https://localhost:8080/",
          "height": 36
        },
        "id": "JNkad8IagSIQ",
        "outputId": "d3dcb9ac-c713-43c2-e950-ac7a25b2deab"
      },
      "execution_count": 7,
      "outputs": [
        {
          "output_type": "execute_result",
          "data": {
            "text/plain": [
              "'i like orange'"
            ],
            "application/vnd.google.colaboratory.intrinsic+json": {
              "type": "string"
            }
          },
          "metadata": {},
          "execution_count": 7
        }
      ]
    },
    {
      "cell_type": "code",
      "source": [
        "# 6. Write a code to create a list with number 1 to 5 and print it.\n",
        "list = [1,2,3,4,5]\n",
        "print(list)"
      ],
      "metadata": {
        "colab": {
          "base_uri": "https://localhost:8080/"
        },
        "id": "83pobiP1gnDC",
        "outputId": "8d980ffa-248b-46a5-9e09-7e3c8cbe5b92"
      },
      "execution_count": 8,
      "outputs": [
        {
          "output_type": "stream",
          "name": "stdout",
          "text": [
            "[1, 2, 3, 4, 5]\n"
          ]
        }
      ]
    },
    {
      "cell_type": "code",
      "source": [
        "# 7. Write a code to append the number 10 to the list [1,2,3,4]\n",
        "list = [1,2,3,4]\n",
        "list.append(10)\n",
        "list"
      ],
      "metadata": {
        "colab": {
          "base_uri": "https://localhost:8080/"
        },
        "id": "wXTLTmbog3tQ",
        "outputId": "ff012bb2-c980-4175-8dd0-54a00a8e9ba0"
      },
      "execution_count": 9,
      "outputs": [
        {
          "output_type": "execute_result",
          "data": {
            "text/plain": [
              "[1, 2, 3, 4, 10]"
            ]
          },
          "metadata": {},
          "execution_count": 9
        }
      ]
    },
    {
      "cell_type": "code",
      "source": [
        "# 8.write a code to remove the number 3 from the list [1,2,3,4,5]\n",
        "list = [1,2,3,4,5]\n",
        "list.remove(3)\n",
        "list"
      ],
      "metadata": {
        "colab": {
          "base_uri": "https://localhost:8080/"
        },
        "id": "IZaBfANzhJy9",
        "outputId": "4a57b379-93e2-43c4-ede7-942eb715c0e5"
      },
      "execution_count": 10,
      "outputs": [
        {
          "output_type": "execute_result",
          "data": {
            "text/plain": [
              "[1, 2, 4, 5]"
            ]
          },
          "metadata": {},
          "execution_count": 10
        }
      ]
    },
    {
      "cell_type": "code",
      "source": [
        "# 9. write a code to access the second element in the list [\"a\",\"b\",\"c\",\"d\"]\n",
        "list = [\"a\",\"b\",\"c\",\"d\"]\n",
        "list[1]"
      ],
      "metadata": {
        "colab": {
          "base_uri": "https://localhost:8080/",
          "height": 36
        },
        "id": "oRByjklghi3U",
        "outputId": "0c5c2876-d05f-4b68-e1e8-84a4a4b3b9cd"
      },
      "execution_count": 11,
      "outputs": [
        {
          "output_type": "execute_result",
          "data": {
            "text/plain": [
              "'b'"
            ],
            "application/vnd.google.colaboratory.intrinsic+json": {
              "type": "string"
            }
          },
          "metadata": {},
          "execution_count": 11
        }
      ]
    },
    {
      "cell_type": "code",
      "source": [
        "# 10. Write a code to reverse the list[10,20,30,40,50]\n",
        "list = [10,20,30,40,50]\n",
        "list.reverse()\n",
        "list"
      ],
      "metadata": {
        "id": "FPhszJa9h6-X"
      },
      "execution_count": null,
      "outputs": []
    },
    {
      "cell_type": "code",
      "source": [
        "# 11. Write a code to tuple with the elements 100,200,300,400 and print it.\n",
        "tuple = (100,200,300,400)\n",
        "print(tuple)"
      ],
      "metadata": {
        "colab": {
          "base_uri": "https://localhost:8080/"
        },
        "id": "PsLAINH5iGhk",
        "outputId": "395c636d-0b59-4172-b560-ee92aae05d60"
      },
      "execution_count": 12,
      "outputs": [
        {
          "output_type": "stream",
          "name": "stdout",
          "text": [
            "(100, 200, 300, 400)\n"
          ]
        }
      ]
    },
    {
      "cell_type": "code",
      "source": [
        "# 12. Write a code to access the second-to-last element of the tuple (\"red\",\"green\",\"blue\",\"yellow\")\n",
        "tuple = (\"red\",\"green\",\"blue\",\"yellow\")\n",
        "tuple[-2]"
      ],
      "metadata": {
        "colab": {
          "base_uri": "https://localhost:8080/",
          "height": 36
        },
        "id": "A_oLTuO-jJUF",
        "outputId": "19f7d421-dba2-4430-9980-a6353137e7d3"
      },
      "execution_count": 13,
      "outputs": [
        {
          "output_type": "execute_result",
          "data": {
            "text/plain": [
              "'blue'"
            ],
            "application/vnd.google.colaboratory.intrinsic+json": {
              "type": "string"
            }
          },
          "metadata": {},
          "execution_count": 13
        }
      ]
    },
    {
      "cell_type": "code",
      "source": [
        "# 13. Write a code to find minimum number in tuple(10,20,5,15)\n",
        "tuple = (10,20,5,15)\n",
        "min(tuple)"
      ],
      "metadata": {
        "colab": {
          "base_uri": "https://localhost:8080/"
        },
        "id": "K5aNIcDMjoiu",
        "outputId": "de8daf4b-a7bd-4749-8d16-f18e4941964d"
      },
      "execution_count": 14,
      "outputs": [
        {
          "output_type": "execute_result",
          "data": {
            "text/plain": [
              "5"
            ]
          },
          "metadata": {},
          "execution_count": 14
        }
      ]
    },
    {
      "cell_type": "code",
      "source": [
        "# 14. Write a code to find the index of the element \"cat\" in tuple(\"dog\",\"cat\",\"rabbit\")\n",
        "tuple = (\"dog\",\"cat\",\"rabbit\")\n",
        "tuple.index(\"cat\")"
      ],
      "metadata": {
        "colab": {
          "base_uri": "https://localhost:8080/"
        },
        "id": "s-sCrPSuj1l5",
        "outputId": "dc718e0e-e949-4b5a-fa9b-99c7abb59775"
      },
      "execution_count": 15,
      "outputs": [
        {
          "output_type": "execute_result",
          "data": {
            "text/plain": [
              "1"
            ]
          },
          "metadata": {},
          "execution_count": 15
        }
      ]
    },
    {
      "cell_type": "code",
      "source": [
        "# 15. Write a code to create a tuple containing three different fruits and checks if \"kiwi\" is in it\n",
        "tuple = (\"apple\",\"banana\",\"kiwi\")\n",
        "\"kiwi\" in tuple"
      ],
      "metadata": {
        "colab": {
          "base_uri": "https://localhost:8080/"
        },
        "id": "kAsgtKYekoBk",
        "outputId": "1ec76482-d853-45cd-d83e-8ac8cbc48399"
      },
      "execution_count": 16,
      "outputs": [
        {
          "output_type": "execute_result",
          "data": {
            "text/plain": [
              "True"
            ]
          },
          "metadata": {},
          "execution_count": 16
        }
      ]
    },
    {
      "cell_type": "code",
      "source": [
        "# 16. Write a code to create a set with the elements \"a\",\"b\",\"c\" and print it\n",
        "book = {\"a\",\"b\",\"c\"}\n",
        "print(book)"
      ],
      "metadata": {
        "colab": {
          "base_uri": "https://localhost:8080/"
        },
        "id": "X-XL1YJ9kLPM",
        "outputId": "5d3fa00d-4a44-430e-e44c-9407529c93bd"
      },
      "execution_count": 46,
      "outputs": [
        {
          "output_type": "stream",
          "name": "stdout",
          "text": [
            "{'a', 'b', 'c'}\n"
          ]
        }
      ]
    },
    {
      "cell_type": "code",
      "source": [
        "# 17. Write a code to clear all elements from the set {1,2,3,4,5}\n",
        "table = {1,2,3,4}\n",
        "table.clear()\n",
        "table"
      ],
      "metadata": {
        "colab": {
          "base_uri": "https://localhost:8080/"
        },
        "id": "UBXq_rwuk8X0",
        "outputId": "71902d56-3f75-40e4-851e-e7cd763cd2bc"
      },
      "execution_count": 56,
      "outputs": [
        {
          "output_type": "execute_result",
          "data": {
            "text/plain": [
              "set()"
            ]
          },
          "metadata": {},
          "execution_count": 56
        }
      ]
    },
    {
      "cell_type": "code",
      "source": [
        "# 18. Write a code to remove 4 the elements from the set {1,2,3,4}\n",
        "log = {1,2,3,4}\n",
        "log.remove(4)\n",
        "log"
      ],
      "metadata": {
        "colab": {
          "base_uri": "https://localhost:8080/"
        },
        "id": "nGiW2FbvlG9F",
        "outputId": "3a01ca02-08b4-4ecc-8f64-c83ec9bd7824"
      },
      "execution_count": 53,
      "outputs": [
        {
          "output_type": "execute_result",
          "data": {
            "text/plain": [
              "{1, 2, 3}"
            ]
          },
          "metadata": {},
          "execution_count": 53
        }
      ]
    },
    {
      "cell_type": "code",
      "source": [
        "# 19. Write a code to find the union of two sets {1,2,3} and {3,4,5}\n",
        "log1 = {1,2,3}\n",
        "log2 = {3,4,5}\n",
        "log1.union(log2)"
      ],
      "metadata": {
        "colab": {
          "base_uri": "https://localhost:8080/"
        },
        "id": "KWvvw7_hljIW",
        "outputId": "286a12c9-34a2-4caa-d462-372c1ac0a337"
      },
      "execution_count": 54,
      "outputs": [
        {
          "output_type": "execute_result",
          "data": {
            "text/plain": [
              "{1, 2, 3, 4, 5}"
            ]
          },
          "metadata": {},
          "execution_count": 54
        }
      ]
    },
    {
      "cell_type": "code",
      "source": [
        "# 20. Write a code to find the intersection of two sets {1,2,3} and {2,3,4}\n",
        "log1 = {1,2,3}\n",
        "log2 = {2,3,4}\n",
        "log1.intersection(log2)"
      ],
      "metadata": {
        "colab": {
          "base_uri": "https://localhost:8080/"
        },
        "id": "exVrmSDjlzLm",
        "outputId": "b622139c-2768-42e4-b754-6bee8f58f9ec"
      },
      "execution_count": 55,
      "outputs": [
        {
          "output_type": "execute_result",
          "data": {
            "text/plain": [
              "{2, 3}"
            ]
          },
          "metadata": {},
          "execution_count": 55
        }
      ]
    },
    {
      "cell_type": "code",
      "source": [
        "# 21. Write a code to create a dictionary with the keys \"name\",\"age\" and \"city\",and print it\n",
        "dict = {\"name\":\"chetan\",\"age\":25,\"city\":\"mumbai\"}\n",
        "print(dict)"
      ],
      "metadata": {
        "colab": {
          "base_uri": "https://localhost:8080/"
        },
        "id": "7f98tEbpmUgb",
        "outputId": "8b167672-c3bc-4e4a-ce6d-004bcf13fe73"
      },
      "execution_count": 23,
      "outputs": [
        {
          "output_type": "stream",
          "name": "stdout",
          "text": [
            "{'name': 'chetan', 'age': 25, 'city': 'mumbai'}\n"
          ]
        }
      ]
    },
    {
      "cell_type": "code",
      "source": [
        "# 22. Write a code to add a new key-value pair \"country\":\"USA\" to the dictionary{\"name\":\"john\",\"age\":25}\n",
        "dict = {\"name\":\"john\",\"age\":25}\n",
        "dict[\"country\"] = \"USA\"\n",
        "dict"
      ],
      "metadata": {
        "colab": {
          "base_uri": "https://localhost:8080/"
        },
        "id": "Qj_kIwvLm4B7",
        "outputId": "2af1b014-1a52-41b8-886b-067782458440"
      },
      "execution_count": 25,
      "outputs": [
        {
          "output_type": "execute_result",
          "data": {
            "text/plain": [
              "{'name': 'john', 'age': 25, 'country': 'USA'}"
            ]
          },
          "metadata": {},
          "execution_count": 25
        }
      ]
    },
    {
      "cell_type": "code",
      "source": [
        "# 23. Write a code to access the value associated with the key \"name\" in the dictionary{\"name\":\"Alice\",\"age\":30}\n",
        "dict = {\"name\":\"Alice\",\"age\":30}\n",
        "dict[\"name\"]"
      ],
      "metadata": {
        "colab": {
          "base_uri": "https://localhost:8080/",
          "height": 36
        },
        "id": "AU6jR2QAnh4u",
        "outputId": "62ce39b2-c232-4988-9fb1-e756c6fa873f"
      },
      "execution_count": 26,
      "outputs": [
        {
          "output_type": "execute_result",
          "data": {
            "text/plain": [
              "'Alice'"
            ],
            "application/vnd.google.colaboratory.intrinsic+json": {
              "type": "string"
            }
          },
          "metadata": {},
          "execution_count": 26
        }
      ]
    },
    {
      "cell_type": "code",
      "source": [
        "# 24. Write a code to remove the key \"age\" from the dictionary {\"name\":\"Bob\",\"age\":22,\"city\":\"Paris\"}\n",
        "dict = {\"name\":\"Bob\",\"age\":22,\"city\":\"Paris\"}\n",
        "dict.pop(\"age\")\n",
        "dict"
      ],
      "metadata": {
        "colab": {
          "base_uri": "https://localhost:8080/"
        },
        "id": "o458qyTwn-Fz",
        "outputId": "108c75e4-2e8d-4330-900f-2f5ff92f8e95"
      },
      "execution_count": 27,
      "outputs": [
        {
          "output_type": "execute_result",
          "data": {
            "text/plain": [
              "{'name': 'Bob', 'city': 'Paris'}"
            ]
          },
          "metadata": {},
          "execution_count": 27
        }
      ]
    },
    {
      "cell_type": "code",
      "source": [
        "# 25. Write a code to check if the key \"city\" eixts in the dictionary{\"name\":\"Alice\",city\":\"Paris\"}\n",
        "dict = {\"name\":\"Alice\",\"city\":\"Paris\"}\n",
        "\"city\" in dict"
      ],
      "metadata": {
        "colab": {
          "base_uri": "https://localhost:8080/"
        },
        "id": "DKz8H9NQogHQ",
        "outputId": "8190b27a-238e-4202-8fc6-c68b555df593"
      },
      "execution_count": 28,
      "outputs": [
        {
          "output_type": "execute_result",
          "data": {
            "text/plain": [
              "True"
            ]
          },
          "metadata": {},
          "execution_count": 28
        }
      ]
    },
    {
      "cell_type": "code",
      "source": [
        "# 26. Write a code to create a list, a tuple and a dictionary, and print them all.\n",
        "list = [1,2,3,4]\n",
        "print(list)\n",
        "tuple = (1,2,3,4)\n",
        "print(tuple)\n",
        "dict = {\"name\":\"chetan\",\"age\":25,\"city\":\"mumbai\"}\n",
        "print(dict)"
      ],
      "metadata": {
        "colab": {
          "base_uri": "https://localhost:8080/"
        },
        "id": "5b79J3SFo5DY",
        "outputId": "235ed7b3-27f9-4af3-d9bc-8571926c2e34"
      },
      "execution_count": 29,
      "outputs": [
        {
          "output_type": "stream",
          "name": "stdout",
          "text": [
            "[1, 2, 3, 4]\n",
            "(1, 2, 3, 4)\n",
            "{'name': 'chetan', 'age': 25, 'city': 'mumbai'}\n"
          ]
        }
      ]
    },
    {
      "cell_type": "code",
      "source": [
        "# 27. Write a code to create a list of 5 random numbers between 1 and 100 , sort it in ascending order, and print the result.(replaced)\n",
        "import random\n",
        "list = []\n",
        "for i in range(5):\n",
        "    list.append(random.randint(1,100))\n",
        "list.sort()\n",
        "list"
      ],
      "metadata": {
        "colab": {
          "base_uri": "https://localhost:8080/"
        },
        "id": "ZtST0tZGpQcL",
        "outputId": "ddcd29bf-69bf-4dfd-9333-31c41e0e79e7"
      },
      "execution_count": 32,
      "outputs": [
        {
          "output_type": "execute_result",
          "data": {
            "text/plain": [
              "[9, 13, 51, 93, 94]"
            ]
          },
          "metadata": {},
          "execution_count": 32
        }
      ]
    },
    {
      "cell_type": "code",
      "source": [
        "# 28. Write a code to create a list with strings and print the element at the third index\n",
        "list = [\"apple\",\"banana\",\"kiwi\"]\n",
        "list[2]"
      ],
      "metadata": {
        "colab": {
          "base_uri": "https://localhost:8080/",
          "height": 36
        },
        "id": "xPlT2TFtp9xZ",
        "outputId": "11f3a16c-820d-431b-ed88-0113082e2efd"
      },
      "execution_count": 33,
      "outputs": [
        {
          "output_type": "execute_result",
          "data": {
            "text/plain": [
              "'kiwi'"
            ],
            "application/vnd.google.colaboratory.intrinsic+json": {
              "type": "string"
            }
          },
          "metadata": {},
          "execution_count": 33
        }
      ]
    },
    {
      "cell_type": "code",
      "source": [
        "# 29. Write a code to combine two dictionaries into one and print the result\n",
        "dict1 = {\"name\":\"chetan\",\"age\":25}\n",
        "dict2 = {\"city\":\"mumbai\",\"country\":\"india\"}\n",
        "dict1.update(dict2)\n",
        "dict1"
      ],
      "metadata": {
        "colab": {
          "base_uri": "https://localhost:8080/"
        },
        "id": "syOF2sKNqPvh",
        "outputId": "a4f7260e-d441-463c-e305-1e0eb8cb7616"
      },
      "execution_count": 34,
      "outputs": [
        {
          "output_type": "execute_result",
          "data": {
            "text/plain": [
              "{'name': 'chetan', 'age': 25, 'city': 'mumbai', 'country': 'india'}"
            ]
          },
          "metadata": {},
          "execution_count": 34
        }
      ]
    },
    {
      "cell_type": "code",
      "source": [
        "# 30. Write a code to convert a list of strings into a set\n",
        "words = [\"apple\",\"banana\",\"apple\",\"apple\",\"banana\"]\n",
        "unique_words = set(words)\n",
        "print(unique_words)"
      ],
      "metadata": {
        "id": "AOgFV2Bhqh6K"
      },
      "execution_count": null,
      "outputs": []
    },
    {
      "cell_type": "markdown",
      "source": [],
      "metadata": {
        "id": "id11S0_Dl9YV"
      }
    },
    {
      "cell_type": "markdown",
      "source": [],
      "metadata": {
        "id": "uqMmsf5MuIhQ"
      }
    }
  ]
}